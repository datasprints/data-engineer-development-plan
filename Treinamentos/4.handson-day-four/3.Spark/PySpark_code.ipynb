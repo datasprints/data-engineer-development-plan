{
 "cells": [
  {
   "cell_type": "code",
   "execution_count": 1,
   "id": "structural-indicator",
   "metadata": {},
   "outputs": [],
   "source": [
    "# import necessary libraries\n",
    "import pandas as pd \n",
    "import numpy\n",
    "import matplotlib.pyplot as plt \n",
    "from pyspark.sql import SparkSession"
   ]
  },
  {
   "cell_type": "code",
   "execution_count": 26,
   "id": "gentle-credits",
   "metadata": {},
   "outputs": [],
   "source": [
    "\n",
    "# create sparksession\n",
    "spark = SparkSession \\\n",
    "    .builder \\\n",
    "    .appName(\"Pysparkexample\") \\\n",
    "    .config(\"spark.some.config.option\", \"test\") \\\n",
    "    .getOrCreate()\n"
   ]
  },
  {
   "cell_type": "code",
   "execution_count": 27,
   "id": "center-execution",
   "metadata": {},
   "outputs": [],
   "source": [
    "df = spark.read.csv('SFY2018_Vendor_Payments.csv', header='true', inferSchema = True)"
   ]
  },
  {
   "cell_type": "code",
   "execution_count": 29,
   "id": "entitled-channel",
   "metadata": {},
   "outputs": [
    {
     "name": "stdout",
     "output_type": "stream",
     "text": [
      "The column Names are:\n",
      "Quarter Ending\n",
      "Department\n",
      "UnitNo\n",
      "Vendor\n",
      "Vendor Number\n",
      "City\n",
      "State\n",
      "DeptID Description\n",
      "DeptID\n",
      "Amount\n",
      "Account\n",
      "AcctNo\n",
      "Fund Description\n",
      "Fund\n"
     ]
    }
   ],
   "source": [
    "#we can use the columns attribute just like with pandas\n",
    "columns = df.columns\n",
    "print('The column Names are:')\n",
    "for i in columns:\n",
    "    print(i)"
   ]
  },
  {
   "cell_type": "code",
   "execution_count": 30,
   "id": "continuing-savings",
   "metadata": {},
   "outputs": [
    {
     "name": "stdout",
     "output_type": "stream",
     "text": [
      "The total number of rows is: 146869 \n",
      "The total number of columns is: 14\n"
     ]
    }
   ],
   "source": [
    "print('The total number of rows is:', df.count(), '\\nThe total number of columns is:', len(df.columns))"
   ]
  },
  {
   "cell_type": "code",
   "execution_count": 31,
   "id": "incredible-hammer",
   "metadata": {},
   "outputs": [
    {
     "name": "stdout",
     "output_type": "stream",
     "text": [
      "+--------------+--------------------+------+--------------------+-------------+-----------+-----+--------------------+----------+--------+--------------------+------+--------------------+-----+\n",
      "|Quarter Ending|          Department|UnitNo|              Vendor|Vendor Number|       City|State|  DeptID Description|    DeptID|  Amount|             Account|AcctNo|    Fund Description| Fund|\n",
      "+--------------+--------------------+------+--------------------+-------------+-----------+-----+--------------------+----------+--------+--------------------+------+--------------------+-----+\n",
      "|    09/30/2017|            Military|  2150|BGS Catamount Hea...|   0000270421| Montpelier|   VT|Air Services Cont...|2150020000|  255.86|Catamount Health ...|505700|Federal Revenue Fund|22005|\n",
      "|    09/30/2017|Defender General'...|  2110|Law Office of Jui...|   0000354450|Island Pond|   VT|        PD Caledonia|2110001500|4,519.00|Contr Public Def&...|507210|        General Fund|10000|\n",
      "|    09/30/2017|Forests, Parks & ...|  6130|Allied-NAPA Auto ...|   0000007143|    Rutland|   VT|               Parks|6130030000|   22.30|Rep&Maint-Grds & ...|512400|State Forest Park...|21270|\n",
      "|    09/30/2017|Agriculture, Food...|  2200|Buildings & Gener...|   0000043658| Montpelier|   VT|       Dairy Section|2200023000|   55.07|Printing and Binding|517000| AF&M-Dairy Receipts|21684|\n",
      "|    09/30/2017|       Public Safety|  2140|Juniper's Fare Ca...|   0000321313|   Moretown|   VT|        DPS-EM-Other|2140031000|  704.00|Other Contr and 3...|507600|Federal Revenue Fund|22005|\n",
      "+--------------+--------------------+------+--------------------+-------------+-----------+-----+--------------------+----------+--------+--------------------+------+--------------------+-----+\n",
      "only showing top 5 rows\n",
      "\n"
     ]
    }
   ],
   "source": [
    "#show first 5 rows\n",
    "df.show(5)"
   ]
  },
  {
   "cell_type": "code",
   "execution_count": 8,
   "id": "excess-theme",
   "metadata": {},
   "outputs": [
    {
     "data": {
      "text/plain": [
       "Row(Quarter Ending='09/30/2017', Department='Military', UnitNo=2150, Vendor='BGS Catamount Health Assessment', Vendor Number='0000270421', City='Montpelier', State='VT', DeptID Description='Air Services Contracts', DeptID='2150020000', Amount='255.86', Account='Catamount Health Assessment', AcctNo='505700', Fund Description='Federal Revenue Fund', Fund='22005')"
      ]
     },
     "execution_count": 8,
     "metadata": {},
     "output_type": "execute_result"
    }
   ],
   "source": [
    "#show first row\n",
    "df.head()"
   ]
  },
  {
   "cell_type": "code",
   "execution_count": 9,
   "id": "micro-firewall",
   "metadata": {},
   "outputs": [
    {
     "name": "stdout",
     "output_type": "stream",
     "text": [
      "+-------+--------------+--------------------+-----------------+-----------------+------------------+--------+------+--------------------+-------------------+-----------------+------------------+--------------------+--------------------+--------------------+\n",
      "|summary|Quarter Ending|          Department|           UnitNo|           Vendor|     Vendor Number|    City| State|  DeptID Description|             DeptID|           Amount|           Account|              AcctNo|    Fund Description|                Fund|\n",
      "+-------+--------------+--------------------+-----------------+-----------------+------------------+--------+------+--------------------+-------------------+-----------------+------------------+--------------------+--------------------+--------------------+\n",
      "|  count|        146869|              146869|           146869|           146869|            146869|  146869|146866|              146869|             146869|           146869|            146869|              146869|              146869|              146869|\n",
      "|   mean|          null|                null|4054.627354989821|             null|126926.16927200966|     0.0|   0.0|                null|4.056656608883281E9|74294.58377350739|    6.9633038244E8|   532038.4707121651|   519063.3333333333|   26572.95476055916|\n",
      "| stddev|          null|                null| 2320.84092671988|             null|135303.06104723446|     0.0|   0.0|                null|2.318770115386163E9|9271405.586241806|5.99305288795789E8|  29116.496518985856|    3496.15598431573|   19093.33387225483|\n",
      "|    min|    03/31/2018|Administration Ag...|             1100|#1 Auto Parts Inc|        0000000008|       0|     0|\"\"\"BGS-New-NSCF-A...|             CCV\"\"\"|            -0.01|          1,350.00|            1,472.08|              514500|               10000|\n",
      "|    max|    12/31/2017|  Women's Commission|             8110|        xAd, Inc.|            SINGLE|w Berlin|    ZZ|Youth Services (C...|                Seg|             Din\"| Youth Development|Rental of Equipme...|Youth Substance A...|Facilities Operat...|\n",
      "+-------+--------------+--------------------+-----------------+-----------------+------------------+--------+------+--------------------+-------------------+-----------------+------------------+--------------------+--------------------+--------------------+\n",
      "\n"
     ]
    }
   ],
   "source": [
    "df.describe().show()"
   ]
  },
  {
   "cell_type": "code",
   "execution_count": 10,
   "id": "finnish-schema",
   "metadata": {},
   "outputs": [
    {
     "name": "stdout",
     "output_type": "stream",
     "text": [
      "+--------------+--------------------+---------+-----+\n",
      "|Quarter Ending|          Department|   Amount|State|\n",
      "+--------------+--------------------+---------+-----+\n",
      "|    09/30/2017|            Military|   255.86|   VT|\n",
      "|    09/30/2017|Defender General'...| 4,519.00|   VT|\n",
      "|    09/30/2017|Forests, Parks & ...|    22.30|   VT|\n",
      "|    09/30/2017|Agriculture, Food...|    55.07|   VT|\n",
      "|    09/30/2017|       Public Safety|   704.00|   VT|\n",
      "|    09/30/2017|                 Tax| 1,060.00|   VT|\n",
      "|    09/30/2017|Disabilities Agin...|56,795.57|   VT|\n",
      "|    09/30/2017|    Education Agency|   300.00|   VT|\n",
      "|    09/30/2017|Transportation Ag...|    75.00|   VT|\n",
      "|    09/30/2017|           Judiciary|    10.98|   MA|\n",
      "+--------------+--------------------+---------+-----+\n",
      "\n"
     ]
    }
   ],
   "source": [
    "# start by creating a temporary table query with SQL\n",
    "df.createOrReplaceTempView('VermontVendor')\n",
    "spark.sql(\n",
    "'''\n",
    "SELECT `Quarter Ending`, Department, Amount, State FROM VermontVendor\n",
    "LIMIT 10\n",
    "'''\n",
    ").show()"
   ]
  },
  {
   "cell_type": "code",
   "execution_count": 11,
   "id": "bacterial-carbon",
   "metadata": {},
   "outputs": [
    {
     "name": "stdout",
     "output_type": "stream",
     "text": [
      "+--------------+--------------------+---------+-----+\n",
      "|Quarter Ending|          Department|   Amount|State|\n",
      "+--------------+--------------------+---------+-----+\n",
      "|    09/30/2017|            Military|   255.86|   VT|\n",
      "|    09/30/2017|Defender General'...| 4,519.00|   VT|\n",
      "|    09/30/2017|Forests, Parks & ...|    22.30|   VT|\n",
      "|    09/30/2017|Agriculture, Food...|    55.07|   VT|\n",
      "|    09/30/2017|       Public Safety|   704.00|   VT|\n",
      "|    09/30/2017|                 Tax| 1,060.00|   VT|\n",
      "|    09/30/2017|Disabilities Agin...|56,795.57|   VT|\n",
      "|    09/30/2017|    Education Agency|   300.00|   VT|\n",
      "|    09/30/2017|Transportation Ag...|    75.00|   VT|\n",
      "|    09/30/2017|           Judiciary|    10.98|   MA|\n",
      "+--------------+--------------------+---------+-----+\n",
      "only showing top 10 rows\n",
      "\n"
     ]
    }
   ],
   "source": [
    "df.select('Quarter Ending', 'Department', 'Amount', 'State').show(10)"
   ]
  },
  {
   "cell_type": "code",
   "execution_count": 13,
   "id": "material-edmonton",
   "metadata": {},
   "outputs": [
    {
     "name": "stdout",
     "output_type": "stream",
     "text": [
      "+--------------+----------+---------+-----+\n",
      "|Quarter Ending|Department|   Amount|State|\n",
      "+--------------+----------+---------+-----+\n",
      "|    09/30/2017|  Military|   255.86|   VT|\n",
      "|    09/30/2017|  Military|   250.00|   TX|\n",
      "|    09/30/2017|  Military|   539.10|   VT|\n",
      "|    09/30/2017|  Military|92,732.64|   CT|\n",
      "|    09/30/2017|  Military|   462.20|   IL|\n",
      "|    09/30/2017|  Military|     3.87|   VT|\n",
      "|    09/30/2017|  Military| 1,172.99|   VT|\n",
      "|    09/30/2017|  Military|    87.35|   VT|\n",
      "|    09/30/2017|  Military|27,034.84|   PA|\n",
      "|    09/30/2017|  Military| 2,061.38|   VT|\n",
      "+--------------+----------+---------+-----+\n",
      "\n"
     ]
    }
   ],
   "source": [
    "spark.sql(\n",
    "'''\n",
    "SELECT `Quarter Ending`, Department, Amount, State FROM VermontVendor \n",
    "WHERE Department = 'Military'\n",
    "LIMIT 10\n",
    "'''\n",
    ").show()"
   ]
  },
  {
   "cell_type": "code",
   "execution_count": 14,
   "id": "existing-titanium",
   "metadata": {},
   "outputs": [
    {
     "name": "stdout",
     "output_type": "stream",
     "text": [
      "+--------------+----------+---------+-----+\n",
      "|Quarter Ending|Department|   Amount|State|\n",
      "+--------------+----------+---------+-----+\n",
      "|    09/30/2017|  Military|   255.86|   VT|\n",
      "|    09/30/2017|  Military|   250.00|   TX|\n",
      "|    09/30/2017|  Military|   539.10|   VT|\n",
      "|    09/30/2017|  Military|92,732.64|   CT|\n",
      "|    09/30/2017|  Military|   462.20|   IL|\n",
      "|    09/30/2017|  Military|     3.87|   VT|\n",
      "|    09/30/2017|  Military| 1,172.99|   VT|\n",
      "|    09/30/2017|  Military|    87.35|   VT|\n",
      "|    09/30/2017|  Military|27,034.84|   PA|\n",
      "|    09/30/2017|  Military| 2,061.38|   VT|\n",
      "+--------------+----------+---------+-----+\n",
      "only showing top 10 rows\n",
      "\n"
     ]
    }
   ],
   "source": [
    "df.select('Quarter Ending', 'Department', 'Amount', 'State').filter(df['Department'] == 'Military').show(10)"
   ]
  },
  {
   "cell_type": "code",
   "execution_count": 17,
   "id": "coral-diving",
   "metadata": {},
   "outputs": [
    {
     "data": {
      "image/png": "[encoded data removed]",
      "text/plain": [
       "<Figure size 720x432 with 1 Axes>"
      ]
     },
     "metadata": {
      "needs_background": "light"
     },
     "output_type": "display_data"
    }
   ],
   "source": [
    "plot_df = spark.sql(\n",
    "'''\n",
    "SELECT Department, SUM(Amount) as Total FROM VermontVendor \n",
    "GROUP BY Department\n",
    "ORDER BY Total DESC\n",
    "LIMIT 20\n",
    "'''\n",
    ").toPandas()\n",
    "\n",
    "fig,ax = plt.subplots(1,1,figsize=(10,6))\n",
    "plot_df.plot(x = 'Department', y = 'Total', kind = 'barh', color = 'C0', ax = ax, legend = False)\n",
    "ax.set_xlabel('Department', size = 16)\n",
    "ax.set_ylabel('Total', size = 16)\n",
    "plt.savefig('barplot.png')\n",
    "plt.show()"
   ]
  },
  {
   "cell_type": "code",
   "execution_count": 18,
   "id": "disciplinary-eclipse",
   "metadata": {},
   "outputs": [
    {
     "name": "stderr",
     "output_type": "stream",
     "text": [
      "/opt/conda/lib/python3.8/site-packages/seaborn/distributions.py:2557: FutureWarning: `distplot` is a deprecated function and will be removed in a future version. Please adapt your code to use either `displot` (a figure-level function with similar flexibility) or `histplot` (an axes-level function for histograms).\n",
      "  warnings.warn(msg, FutureWarning)\n"
     ]
    },
    {
     "data": {
      "image/png": "[encoded data removed]",
      "text/plain": [
       "<Figure size 720x432 with 1 Axes>"
      ]
     },
     "metadata": {
      "needs_background": "light"
     },
     "output_type": "display_data"
    }
   ],
   "source": [
    "\n",
    "import numpy as np\n",
    "import seaborn as sns\n",
    "plot_df2 = spark.sql(\n",
    "'''\n",
    "SELECT Department, SUM(Amount) as Total FROM VermontVendor \n",
    "GROUP BY Department\n",
    "'''\n",
    ").toPandas()\n",
    "plt.figure(figsize = (10,6))\n",
    "sns.distplot(np.log(plot_df2['Total']))\n",
    "plt.title('Histogram of Log Totals for all Departments in Dataset', size = 16)\n",
    "plt.ylabel('Density', size = 16)\n",
    "plt.xlabel('Log Total', size = 16)\n",
    "plt.grid()\n",
    "plt.savefig('distplot.png')\n",
    "plt.show()"
   ]
  },
  {
   "cell_type": "code",
   "execution_count": 19,
   "id": "figured-window",
   "metadata": {},
   "outputs": [
    {
     "name": "stdout",
     "output_type": "stream",
     "text": [
      "+-----+---------+\n",
      "|State|   Amount|\n",
      "+-----+---------+\n",
      "|   VT|   255.86|\n",
      "|   VT| 4,519.00|\n",
      "|   VT|    22.30|\n",
      "|   VT|    55.07|\n",
      "|   VT|   704.00|\n",
      "|   VT| 1,060.00|\n",
      "|   VT|56,795.57|\n",
      "|   VT|   300.00|\n",
      "|   VT|    75.00|\n",
      "|   MA|    10.98|\n",
      "|   FL|   900.00|\n",
      "|   VT|    11.33|\n",
      "|   CA|   122.33|\n",
      "|   PA|    31.33|\n",
      "|   TX|   250.00|\n",
      "|   MA|   462.56|\n",
      "|   VT| 1,196.05|\n",
      "|   VT|   213.47|\n",
      "|   VT|34,337.49|\n",
      "|   VT|    96.00|\n",
      "+-----+---------+\n",
      "only showing top 20 rows\n",
      "\n"
     ]
    }
   ],
   "source": [
    "df.select('State', 'Amount').show()"
   ]
  },
  {
   "cell_type": "code",
   "execution_count": 20,
   "id": "suitable-helen",
   "metadata": {},
   "outputs": [
    {
     "data": {
      "text/html": [
       "<div>\n",
       "<style scoped>\n",
       "    .dataframe tbody tr th:only-of-type {\n",
       "        vertical-align: middle;\n",
       "    }\n",
       "\n",
       "    .dataframe tbody tr th {\n",
       "        vertical-align: top;\n",
       "    }\n",
       "\n",
       "    .dataframe thead th {\n",
       "        text-align: right;\n",
       "    }\n",
       "</style>\n",
       "<table border=\"1\" class=\"dataframe\">\n",
       "  <thead>\n",
       "    <tr style=\"text-align: right;\">\n",
       "      <th></th>\n",
       "      <th>State</th>\n",
       "      <th>Total</th>\n",
       "    </tr>\n",
       "  </thead>\n",
       "  <tbody>\n",
       "    <tr>\n",
       "      <th>0</th>\n",
       "      <td>VT</td>\n",
       "      <td>6.978645e+09</td>\n",
       "    </tr>\n",
       "    <tr>\n",
       "      <th>1</th>\n",
       "      <td>MA</td>\n",
       "      <td>1.107764e+06</td>\n",
       "    </tr>\n",
       "    <tr>\n",
       "      <th>2</th>\n",
       "      <td>NY</td>\n",
       "      <td>6.987738e+05</td>\n",
       "    </tr>\n",
       "    <tr>\n",
       "      <th>3</th>\n",
       "      <td>IL</td>\n",
       "      <td>5.123210e+05</td>\n",
       "    </tr>\n",
       "    <tr>\n",
       "      <th>4</th>\n",
       "      <td>PA</td>\n",
       "      <td>3.855255e+05</td>\n",
       "    </tr>\n",
       "  </tbody>\n",
       "</table>\n",
       "</div>"
      ],
      "text/plain": [
       "  State         Total\n",
       "0    VT  6.978645e+09\n",
       "1    MA  1.107764e+06\n",
       "2    NY  6.987738e+05\n",
       "3    IL  5.123210e+05\n",
       "4    PA  3.855255e+05"
      ]
     },
     "execution_count": 20,
     "metadata": {},
     "output_type": "execute_result"
    }
   ],
   "source": [
    "plot_df2 = spark.sql(\n",
    "'''\n",
    "SELECT State, SUM(Amount) as Total FROM VermontVendor \n",
    "GROUP BY State\n",
    "ORDER BY Total DESC\n",
    "'''\n",
    ").toPandas()\n",
    "plot_df2.head()"
   ]
  },
  {
   "cell_type": "code",
   "execution_count": 22,
   "id": "happy-pierce",
   "metadata": {},
   "outputs": [
    {
     "data": {
      "text/html": [
       "<div>\n",
       "<style scoped>\n",
       "    .dataframe tbody tr th:only-of-type {\n",
       "        vertical-align: middle;\n",
       "    }\n",
       "\n",
       "    .dataframe tbody tr th {\n",
       "        vertical-align: top;\n",
       "    }\n",
       "\n",
       "    .dataframe thead th {\n",
       "        text-align: right;\n",
       "    }\n",
       "</style>\n",
       "<table border=\"1\" class=\"dataframe\">\n",
       "  <thead>\n",
       "    <tr style=\"text-align: right;\">\n",
       "      <th></th>\n",
       "      <th>Date</th>\n",
       "      <th>State</th>\n",
       "      <th>Total</th>\n",
       "    </tr>\n",
       "  </thead>\n",
       "  <tbody>\n",
       "    <tr>\n",
       "      <th>0</th>\n",
       "      <td>03/31/2018</td>\n",
       "      <td>VT</td>\n",
       "      <td>3.485422e+09</td>\n",
       "    </tr>\n",
       "    <tr>\n",
       "      <th>1</th>\n",
       "      <td>06/30/2018</td>\n",
       "      <td>VT</td>\n",
       "      <td>2.324876e+09</td>\n",
       "    </tr>\n",
       "    <tr>\n",
       "      <th>2</th>\n",
       "      <td>12/31/2017</td>\n",
       "      <td>VT</td>\n",
       "      <td>1.164478e+09</td>\n",
       "    </tr>\n",
       "    <tr>\n",
       "      <th>3</th>\n",
       "      <td>09/30/2017</td>\n",
       "      <td>VT</td>\n",
       "      <td>3.868423e+06</td>\n",
       "    </tr>\n",
       "    <tr>\n",
       "      <th>4</th>\n",
       "      <td>09/30/2017</td>\n",
       "      <td>MA</td>\n",
       "      <td>3.229555e+05</td>\n",
       "    </tr>\n",
       "  </tbody>\n",
       "</table>\n",
       "</div>"
      ],
      "text/plain": [
       "         Date State         Total\n",
       "0  03/31/2018    VT  3.485422e+09\n",
       "1  06/30/2018    VT  2.324876e+09\n",
       "2  12/31/2017    VT  1.164478e+09\n",
       "3  09/30/2017    VT  3.868423e+06\n",
       "4  09/30/2017    MA  3.229555e+05"
      ]
     },
     "execution_count": 22,
     "metadata": {},
     "output_type": "execute_result"
    }
   ],
   "source": [
    "plot_df2 = spark.sql(\n",
    "'''\n",
    "SELECT `Quarter Ending` as Date, %s, SUM(Amount) as Total FROM VermontVendor \n",
    "GROUP BY State, Date\n",
    "ORDER BY Total DESC\n",
    "''' % 'State'\n",
    ").toPandas()\n",
    "plot_df2.head()"
   ]
  },
  {
   "cell_type": "code",
   "execution_count": 21,
   "id": "angry-absence",
   "metadata": {},
   "outputs": [
    {
     "data": {
      "image/png": "[encoded data removed]",
      "text/plain": [
       "<Figure size 1008x432 with 1 Axes>"
      ]
     },
     "metadata": {
      "needs_background": "light"
     },
     "output_type": "display_data"
    }
   ],
   "source": [
    "fig, ax = plt.subplots(1,1,figsize = (14, 6))\n",
    "plot_df2.head(15).plot(x='State', y = 'Total', kind = 'barh', legend = False, ax = ax, color = 'C0')\n",
    "plt.title('Total by State')\n",
    "plt.ylabel('State')\n",
    "plt.xlabel('Total Spent')\n",
    "plt.grid()\n",
    "plt.show()"
   ]
  }
 ],
 "metadata": {
  "kernelspec": {
   "display_name": "Python 3",
   "language": "python",
   "name": "python3"
  },
  "language_info": {
   "codemirror_mode": {
    "name": "ipython",
    "version": 3
   },
   "file_extension": ".py",
   "mimetype": "text/x-python",
   "name": "python",
   "nbconvert_exporter": "python",
   "pygments_lexer": "ipython3",
   "version": "3.8.6"
  }
 },
 "nbformat": 4,
 "nbformat_minor": 5
}
